{
  "nbformat": 4,
  "nbformat_minor": 0,
  "metadata": {
    "colab": {
      "provenance": [],
      "authorship_tag": "ABX9TyOKVF7Zw1Cj6pvEY6LiygL0",
      "include_colab_link": true
    },
    "kernelspec": {
      "name": "python3",
      "display_name": "Python 3"
    },
    "language_info": {
      "name": "python"
    }
  },
  "cells": [
    {
      "cell_type": "markdown",
      "metadata": {
        "id": "view-in-github",
        "colab_type": "text"
      },
      "source": [
        "<a href=\"https://colab.research.google.com/github/xuelinxuan/airflow/blob/main/Dags.ipynb\" target=\"_parent\"><img src=\"https://colab.research.google.com/assets/colab-badge.svg\" alt=\"Open In Colab\"/></a>"
      ]
    },
    {
      "cell_type": "code",
      "execution_count": null,
      "metadata": {
        "id": "55Sb76yd_nzJ",
        "colab": {
          "base_uri": "https://localhost:8080/"
        },
        "outputId": "0252f5a6-9dfd-48e3-be52-fc79fbaa966f"
      },
      "outputs": [
        {
          "output_type": "stream",
          "name": "stdout",
          "text": [
            "Reading package lists... Done\n",
            "Building dependency tree... Done\n",
            "Reading state information... Done\n",
            "git is already the newest version (1:2.34.1-1ubuntu1.12).\n",
            "0 upgraded, 0 newly installed, 0 to remove and 19 not upgraded.\n"
          ]
        }
      ],
      "source": [
        "!apt-get install git\n"
      ]
    },
    {
      "cell_type": "code",
      "source": [
        "!git config --global user.name \"xuelinxuan\"\n",
        "!git config --global user.email \"linxuanxue@gmail.com\"\n"
      ],
      "metadata": {
        "id": "FFdojExBqrgK"
      },
      "execution_count": null,
      "outputs": []
    },
    {
      "cell_type": "code",
      "source": [
        "!git clone https://github.com/xuelinxuan/airflow.git\n",
        "%cd airflow"
      ],
      "metadata": {
        "id": "hlRN2u0oUMyK",
        "colab": {
          "base_uri": "https://localhost:8080/"
        },
        "outputId": "94109fe1-009c-4bec-ac0a-1425321979bc"
      },
      "execution_count": null,
      "outputs": [
        {
          "output_type": "stream",
          "name": "stdout",
          "text": [
            "fatal: destination path 'airflow' already exists and is not an empty directory.\n",
            "/content/airflow\n"
          ]
        }
      ]
    },
    {
      "cell_type": "code",
      "source": [
        "!git checkout -b dags"
      ],
      "metadata": {
        "id": "xlwk4EXvrFbl",
        "outputId": "17749635-0ace-4e80-97ef-bca773a18dbc",
        "colab": {
          "base_uri": "https://localhost:8080/"
        }
      },
      "execution_count": null,
      "outputs": [
        {
          "output_type": "stream",
          "name": "stdout",
          "text": [
            "Switched to a new branch 'dags'\n"
          ]
        }
      ]
    }
  ]
}